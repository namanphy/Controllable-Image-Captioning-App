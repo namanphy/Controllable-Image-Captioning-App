{
  "nbformat": 4,
  "nbformat_minor": 0,
  "metadata": {
    "accelerator": "GPU",
    "colab": {
      "name": "eva_session5 - iter 2.ipynb",
      "provenance": [],
      "authorship_tag": "ABX9TyMD28jKC6pQRNIPrweJzU58",
      "include_colab_link": true
    },
    "kernelspec": {
      "display_name": "Python 3",
      "name": "python3"
    }
  },
  "cells": [
    {
      "cell_type": "markdown",
      "metadata": {
        "id": "view-in-github",
        "colab_type": "text"
      },
      "source": [
        "<a href=\"https://colab.research.google.com/github/namanphy/Controllable-Image-Captioning-App/blob/master/S5/eva_session5%20-%20iter%202.ipynb\" target=\"_parent\"><img src=\"https://colab.research.google.com/assets/colab-badge.svg\" alt=\"Open In Colab\"/></a>"
      ]
    },
    {
      "cell_type": "markdown",
      "metadata": {
        "id": "2rN1Sty-UEQH"
      },
      "source": [
        "\r\n",
        "# Iteration 2\r\n",
        "\r\n"
      ]
    },
    {
      "cell_type": "markdown",
      "metadata": {
        "id": "o3IkbGWWvpSN"
      },
      "source": [
        "\r\n",
        "Target\r\n",
        "1. To reduce the number of parameters.\r\n",
        "\r\n",
        "Results\r\n",
        "1. parameters = 8,734\r\n",
        "2. Best Train Accuracy = 99.34\r\n",
        "3. Best Test Accuracy = 99.00\r\n",
        "\r\n",
        "Analysis\r\n",
        "1. Good training accuracy with reduced number of parameters.\r\n",
        "2. Overfitting - The model is still overfitting.\r\n",
        "3. Also the best training and test accuracies are reduced.\r\n",
        "4. Number of model parameters is under required target.\r\n",
        "\r\n",
        "---"
      ]
    },
    {
      "cell_type": "code",
      "metadata": {
        "colab": {
          "base_uri": "https://localhost:8080/"
        },
        "id": "0m2JWFliFfKT",
        "outputId": "12118685-fff4-471e-df02-0de0f6ebf1b3"
      },
      "source": [
        "import torch\n",
        "import torch.nn as nn\n",
        "import torch.nn.functional as F\n",
        "import torch.optim as optim\n",
        "from torchvision import datasets, transforms\n",
        "\n",
        "!pip install torchsummary\n",
        "from torchsummary import summary"
      ],
      "execution_count": null,
      "outputs": [
        {
          "output_type": "stream",
          "text": [
            "Requirement already satisfied: torchsummary in /usr/local/lib/python3.6/dist-packages (1.5.1)\n"
          ],
          "name": "stdout"
        }
      ]
    },
    {
      "cell_type": "markdown",
      "metadata": {
        "id": "yxRPMAKpIdY6"
      },
      "source": [
        "## Getting to know our data"
      ]
    },
    {
      "cell_type": "code",
      "metadata": {
        "id": "nKGRFC-IKoh8"
      },
      "source": [
        "# Downloading the dataset and setting up dataloader for visualisationn only\r\n",
        "\r\n",
        "train_set = datasets.MNIST('../data', train=True, download=True, transform=transforms.ToTensor())\r\n",
        "test_set = datasets.MNIST('../data', train=False, transform=transforms.ToTensor())\r\n",
        "train_loader = torch.utils.data.DataLoader(train_set, batch_size=64, shuffle=True)"
      ],
      "execution_count": null,
      "outputs": []
    },
    {
      "cell_type": "code",
      "metadata": {
        "colab": {
          "base_uri": "https://localhost:8080/",
          "height": 554
        },
        "id": "EbqFY5LuItVR",
        "outputId": "c7c8fb9b-931c-4d31-db54-b326d6f23fc0"
      },
      "source": [
        "# We'd need to convert it into Numpy! Remember above we have converted it into tensors already\r\n",
        "train_data = train_set.train_data\r\n",
        "train_data = train_set.transform(train_data.numpy())\r\n",
        "\r\n",
        "print('[Train]')\r\n",
        "print(' - Numpy Shape:', train_set.train_data.cpu().numpy().shape)\r\n",
        "print(' - Tensor Shape:', train_set.train_data.size())\r\n",
        "print(' - min:', torch.min(train_data))\r\n",
        "print(' - max:', torch.max(train_data))\r\n",
        "print(' - mean:', torch.mean(train_data))\r\n",
        "print(' - std:', torch.std(train_data))\r\n",
        "print(' - var:', torch.var(train_data))\r\n",
        "\r\n",
        "dataiter = iter(train_loader)\r\n",
        "images, labels = dataiter.next()\r\n",
        "\r\n",
        "print(images.shape)\r\n",
        "print(labels.shape)\r\n",
        "\r\n",
        "# Let's visualize some of the images\r\n",
        "%matplotlib inline\r\n",
        "import matplotlib.pyplot as plt\r\n",
        "\r\n",
        "plt.imshow(images[0].numpy().squeeze(), cmap='gray_r')"
      ],
      "execution_count": null,
      "outputs": [
        {
          "output_type": "stream",
          "text": [
            "/usr/local/lib/python3.6/dist-packages/torchvision/datasets/mnist.py:58: UserWarning: train_data has been renamed data\n",
            "  warnings.warn(\"train_data has been renamed data\")\n"
          ],
          "name": "stderr"
        },
        {
          "output_type": "stream",
          "text": [
            "[Train]\n",
            " - Numpy Shape: (60000, 28, 28)\n",
            " - Tensor Shape: torch.Size([60000, 28, 28])\n",
            " - min: tensor(0.)\n",
            " - max: tensor(1.)\n",
            " - mean: tensor(0.1307)\n",
            " - std: tensor(0.3081)\n",
            " - var: tensor(0.0949)\n",
            "\n",
            "torch.Size([64, 1, 28, 28])\n",
            "torch.Size([64])\n",
            "\n",
            "\n"
          ],
          "name": "stdout"
        },
        {
          "output_type": "execute_result",
          "data": {
            "text/plain": [
              "<matplotlib.image.AxesImage at 0x7f1246199278>"
            ]
          },
          "metadata": {
            "tags": []
          },
          "execution_count": 3
        },
        {
          "output_type": "display_data",
          "data": {
            "image/png": "[encoded data removed]",
            "text/plain": [
              "<Figure size 432x288 with 1 Axes>"
            ]
          },
          "metadata": {
            "tags": []
          }
        }
      ]
    },
    {
      "cell_type": "code",
      "metadata": {
        "colab": {
          "base_uri": "https://localhost:8080/",
          "height": 246
        },
        "id": "JMv1Ep1bLPIe",
        "outputId": "cafb3928-ddad-4910-c9bd-52591a229d3e"
      },
      "source": [
        "figure = plt.figure()\r\n",
        "num_of_images = 60\r\n",
        "for index in range(1, num_of_images + 1):\r\n",
        "    plt.subplot(6, 10, index)\r\n",
        "    plt.axis('off')\r\n",
        "    plt.imshow(images[index].numpy().squeeze(), cmap='gray_r')"
      ],
      "execution_count": null,
      "outputs": [
        {
          "output_type": "display_data",
          "data": {
            "image/png": "[encoded data removed]",
            "text/plain": [
              "<Figure size 432x288 with 60 Axes>"
            ]
          },
          "metadata": {
            "tags": []
          }
        }
      ]
    },
    {
      "cell_type": "markdown",
      "metadata": {
        "id": "lYp1u6p0IKQE"
      },
      "source": [
        "## Setting up Dataloaders and Transformations\r\n"
      ]
    },
    {
      "cell_type": "code",
      "metadata": {
        "id": "Vn8BEDoTXIPR"
      },
      "source": [
        "# Train Phase transformations\r\n",
        "train_transforms = transforms.Compose([\r\n",
        "                                      #  transforms.Resize((28, 28)),\r\n",
        "                                      #  transforms.ColorJitter(brightness=0.10, contrast=0.1, saturation=0.10, hue=0.1),\r\n",
        "                                       transforms.ToTensor(),\r\n",
        "                                       transforms.Normalize((0.1307,), (0.3081,)) # The mean and std have to be sequences (e.g., tuples), therefore you should add a comma after the values. \r\n",
        "                                       # Note the difference between (0.1307) and (0.1307,)\r\n",
        "                                       ])\r\n",
        "\r\n",
        "# Test Phase transformations\r\n",
        "test_transforms = transforms.Compose([\r\n",
        "                                      #  transforms.Resize((28, 28)),\r\n",
        "                                      #  transforms.ColorJitter(brightness=0.10, contrast=0.1, saturation=0.10, hue=0.1),\r\n",
        "                                       transforms.ToTensor(),\r\n",
        "                                       transforms.Normalize((0.1307,), (0.3081,))\r\n",
        "                                       ])"
      ],
      "execution_count": null,
      "outputs": []
    },
    {
      "cell_type": "code",
      "metadata": {
        "id": "L85gYyFtX-I5"
      },
      "source": [
        "use_cuda = torch.cuda.is_available()\r\n",
        "device = torch.device(\"cuda\" if use_cuda else \"cpu\")"
      ],
      "execution_count": null,
      "outputs": []
    },
    {
      "cell_type": "code",
      "metadata": {
        "id": "DqTWLaM5GHgH"
      },
      "source": [
        "torch.manual_seed(1)\n",
        "if use_cuda:\n",
        "    torch.cuda.manual_seed(1)\n",
        "batch_size = 128\n",
        "\n",
        "kwargs = {'num_workers': 4, 'pin_memory': True} if use_cuda else {}\n",
        "\n",
        "train_set = datasets.MNIST('../data', train=True, download=True, transform=train_transforms)\n",
        "test_set = datasets.MNIST('../data', train=False, transform=test_transforms)\n",
        "\n",
        "train_loader = torch.utils.data.DataLoader(train_set , batch_size=batch_size, shuffle=True, **kwargs)\n",
        "\n",
        "test_loader = torch.utils.data.DataLoader(test_set, batch_size=batch_size, shuffle=True, **kwargs)\n"
      ],
      "execution_count": null,
      "outputs": []
    },
    {
      "cell_type": "markdown",
      "metadata": {
        "id": "eA75paYdIdAq"
      },
      "source": [
        "## Making our model"
      ]
    },
    {
      "cell_type": "code",
      "metadata": {
        "id": "h_Cx9q2QFgM7"
      },
      "source": [
        "class Net(nn.Module):\n",
        "    def __init__(self):\n",
        "        super(Net, self).__init__()\n",
        "        self.conv1 = nn.Sequential(\n",
        "            nn.Conv2d(1, 10, 3, padding=1, bias=False), # RF - 3x3\n",
        "            nn.ReLU(), # RF - 3x3\n",
        "            nn.Conv2d(10, 10, 3, bias=False), # RF - 5x5\n",
        "            nn.ReLU(), # RF - 5x5\n",
        "            nn.MaxPool2d(2, 2) # RF - 10x10\n",
        "        )\n",
        "\n",
        "        self.conv2 = nn.Sequential(\n",
        "            nn.Conv2d(10, 16, 3, padding=1, bias=False), # RF - 12x12\n",
        "            nn.ReLU(), # RF - 12x12\n",
        "            nn.Conv2d(16, 16, 3, bias=False), # RF - 14x14\n",
        "            nn.ReLU(), # RF - 14x14\n",
        "            nn.MaxPool2d(2, 2) # RF - 28x28\n",
        "        )\n",
        "        self.conv3 = nn.Sequential(\n",
        "            nn.Conv2d(16, 10, 5, bias=False)\n",
        "        )\n",
        "\n",
        "    def forward(self, x):\n",
        "        x = self.conv1(x)\n",
        "        x = self.conv2(x)\n",
        "        x = self.conv3(x)\n",
        "\n",
        "        # x = x.mean(dim=[-2,-1])\n",
        "        x = x.view(-1, 10)\n",
        "        return F.log_softmax(x)"
      ],
      "execution_count": null,
      "outputs": []
    },
    {
      "cell_type": "code",
      "metadata": {
        "colab": {
          "base_uri": "https://localhost:8080/"
        },
        "id": "xdydjYTZFyi3",
        "outputId": "3a724d4d-5840-43f6-8ddd-cb0cf625448a"
      },
      "source": [
        "model = Net().to(device)\n",
        "summary(model, input_size=(1, 28, 28))"
      ],
      "execution_count": null,
      "outputs": [
        {
          "output_type": "stream",
          "text": [
            "----------------------------------------------------------------\n",
            "        Layer (type)               Output Shape         Param #\n",
            "================================================================\n",
            "            Conv2d-1           [-1, 10, 28, 28]              90\n",
            "              ReLU-2           [-1, 10, 28, 28]               0\n",
            "            Conv2d-3           [-1, 10, 26, 26]             900\n",
            "              ReLU-4           [-1, 10, 26, 26]               0\n",
            "         MaxPool2d-5           [-1, 10, 13, 13]               0\n",
            "            Conv2d-6           [-1, 16, 13, 13]           1,440\n",
            "              ReLU-7           [-1, 16, 13, 13]               0\n",
            "            Conv2d-8           [-1, 16, 11, 11]           2,304\n",
            "              ReLU-9           [-1, 16, 11, 11]               0\n",
            "        MaxPool2d-10             [-1, 16, 5, 5]               0\n",
            "           Conv2d-11             [-1, 10, 1, 1]           4,000\n",
            "================================================================\n",
            "Total params: 8,734\n",
            "Trainable params: 8,734\n",
            "Non-trainable params: 0\n",
            "----------------------------------------------------------------\n",
            "Input size (MB): 0.00\n",
            "Forward/backward pass size (MB): 0.31\n",
            "Params size (MB): 0.03\n",
            "Estimated Total Size (MB): 0.35\n",
            "----------------------------------------------------------------\n"
          ],
          "name": "stdout"
        },
        {
          "output_type": "stream",
          "text": [
            "/usr/local/lib/python3.6/dist-packages/ipykernel_launcher.py:30: UserWarning: Implicit dimension choice for log_softmax has been deprecated. Change the call to include dim=X as an argument.\n"
          ],
          "name": "stderr"
        }
      ]
    },
    {
      "cell_type": "code",
      "metadata": {
        "id": "8fDefDhaFlwH"
      },
      "source": [
        "from tqdm import tqdm\n",
        "\n",
        "train_losses = []\n",
        "test_losses = []\n",
        "train_acc = []\n",
        "test_acc = []\n",
        "\n",
        "def train(model, device, train_loader, optimizer, epoch):\n",
        "    print(f\"EPOCH - {epoch}\")\n",
        "    model.train()\n",
        "    pbar = tqdm(train_loader, position=0, leave=True)\n",
        "    correct = 0\n",
        "    processed = 0\n",
        "    for batch_idx, (data, target) in enumerate(pbar):\n",
        "        data, target = data.to(device), target.to(device)\n",
        "        optimizer.zero_grad()\n",
        "        output = model(data)\n",
        "        loss = F.nll_loss(output, target)\n",
        "        train_losses.append(loss)\n",
        "        loss.backward()\n",
        "        optimizer.step()\n",
        "\n",
        "        pred = output.argmax(dim=1, keepdim=True)  # get the index of the max log-probability\n",
        "        correct += pred.eq(target.view_as(pred)).sum().item()\n",
        "        processed += len(data)\n",
        "\n",
        "        pbar.set_description(desc= f'Loss={loss.item()} Batch_id={batch_idx} Accuracy={100*correct/processed:0.2f}')\n",
        "        train_acc.append(100*correct/processed)\n",
        "\n",
        "\n",
        "def test(model, device, test_loader):\n",
        "    model.eval()\n",
        "    test_loss = 0\n",
        "    correct = 0\n",
        "    with torch.no_grad():\n",
        "        for data, target in test_loader:\n",
        "            data, target = data.to(device), target.to(device)\n",
        "            output = model(data)\n",
        "            test_loss += F.nll_loss(output, target, reduction='sum').item()  # sum up batch loss\n",
        "            pred = output.argmax(dim=1, keepdim=True)  # get the index of the max log-probability\n",
        "            correct += pred.eq(target.view_as(pred)).sum().item()\n",
        "\n",
        "    test_loss /= len(test_loader.dataset)\n",
        "    test_losses.append(test_loss)\n",
        "\n",
        "    print('\\nTest set: Average loss: {:.4f}, Accuracy: {}/{} ({:.0f}%)\\n'.format(\n",
        "        test_loss, correct, len(test_loader.dataset), 100. * correct / len(test_loader.dataset)))\n",
        "    test_acc.append(100. * correct / len(test_loader.dataset))"
      ],
      "execution_count": null,
      "outputs": []
    },
    {
      "cell_type": "code",
      "metadata": {
        "colab": {
          "base_uri": "https://localhost:8080/"
        },
        "id": "SYzgAz-KdaXK",
        "outputId": "f22dbe53-f87b-429a-e6c6-7dc8cc1f0882"
      },
      "source": [
        "data, target = next(iter(train_loader))\r\n",
        "print(data.size(), target.size())"
      ],
      "execution_count": null,
      "outputs": [
        {
          "output_type": "stream",
          "text": [
            "torch.Size([128, 1, 28, 28]) torch.Size([128])\n"
          ],
          "name": "stdout"
        }
      ]
    },
    {
      "cell_type": "code",
      "metadata": {
        "colab": {
          "background_save": true,
          "base_uri": "https://localhost:8080/"
        },
        "id": "MMWbLWO6FuHb",
        "outputId": "fdf2129d-4c5e-4d2c-eac7-21616fe6b9f5"
      },
      "source": [
        "model = Net().to(device)\n",
        "optimizer = optim.SGD(model.parameters(), lr=0.01, momentum=0.9)\n",
        "\n",
        "for epoch in range(1, 16):\n",
        "    train(model, device, train_loader, optimizer, epoch)\n",
        "    test(model, device, test_loader)\n"
      ],
      "execution_count": null,
      "outputs": [
        {
          "output_type": "stream",
          "text": [
            "  0%|          | 0/469 [00:00<?, ?it/s]/usr/local/lib/python3.6/dist-packages/ipykernel_launcher.py:30: UserWarning: Implicit dimension choice for log_softmax has been deprecated. Change the call to include dim=X as an argument.\n",
            "Loss=2.307953119277954 Batch_id=0 Accuracy=7.03:   0%|          | 1/469 [00:00<01:27,  5.35it/s]"
          ],
          "name": "stderr"
        },
        {
          "output_type": "stream",
          "text": [
            "EPOCH - 1\n"
          ],
          "name": "stdout"
        },
        {
          "output_type": "stream",
          "text": [
            "Loss=0.09776719659566879 Batch_id=468 Accuracy=84.85: 100%|██████████| 469/469 [00:59<00:00,  7.91it/s]\n",
            "Loss=0.0802985355257988 Batch_id=0 Accuracy=97.66:   0%|          | 1/469 [00:00<01:03,  7.39it/s]"
          ],
          "name": "stderr"
        },
        {
          "output_type": "stream",
          "text": [
            "\n",
            "Test set: Average loss: 0.0851, Accuracy: 9739/10000 (97%)\n",
            "\n",
            "EPOCH - 2\n"
          ],
          "name": "stdout"
        },
        {
          "output_type": "stream",
          "text": [
            "Loss=0.06484547257423401 Batch_id=468 Accuracy=97.58: 100%|██████████| 469/469 [01:06<00:00,  7.08it/s]\n",
            "  0%|          | 0/469 [00:00<?, ?it/s]"
          ],
          "name": "stderr"
        },
        {
          "output_type": "stream",
          "text": [
            "\n",
            "Test set: Average loss: 0.0584, Accuracy: 9806/10000 (98%)\n",
            "\n",
            "EPOCH - 3\n"
          ],
          "name": "stdout"
        },
        {
          "output_type": "stream",
          "text": [
            "Loss=0.021484365686774254 Batch_id=468 Accuracy=98.13: 100%|██████████| 469/469 [01:03<00:00,  7.38it/s]\n",
            "Loss=0.04014552757143974 Batch_id=0 Accuracy=99.22:   0%|          | 1/469 [00:00<01:01,  7.64it/s]"
          ],
          "name": "stderr"
        },
        {
          "output_type": "stream",
          "text": [
            "\n",
            "Test set: Average loss: 0.0434, Accuracy: 9875/10000 (99%)\n",
            "\n",
            "EPOCH - 4\n"
          ],
          "name": "stdout"
        },
        {
          "output_type": "stream",
          "text": [
            "Loss=0.011440792120993137 Batch_id=468 Accuracy=98.46: 100%|██████████| 469/469 [01:02<00:00,  7.47it/s]\n",
            "Loss=0.038436390459537506 Batch_id=0 Accuracy=98.44:   0%|          | 1/469 [00:00<01:02,  7.44it/s]"
          ],
          "name": "stderr"
        },
        {
          "output_type": "stream",
          "text": [
            "\n",
            "Test set: Average loss: 0.0399, Accuracy: 9861/10000 (99%)\n",
            "\n",
            "EPOCH - 5\n"
          ],
          "name": "stdout"
        },
        {
          "output_type": "stream",
          "text": [
            "Loss=0.03050914965569973 Batch_id=468 Accuracy=98.64: 100%|██████████| 469/469 [01:03<00:00,  7.41it/s]\n",
            "Loss=0.07223913818597794 Batch_id=0 Accuracy=97.66:   0%|          | 1/469 [00:00<01:05,  7.15it/s]"
          ],
          "name": "stderr"
        },
        {
          "output_type": "stream",
          "text": [
            "\n",
            "Test set: Average loss: 0.0458, Accuracy: 9852/10000 (99%)\n",
            "\n",
            "EPOCH - 6\n"
          ],
          "name": "stdout"
        },
        {
          "output_type": "stream",
          "text": [
            "Loss=0.00786848459392786 Batch_id=468 Accuracy=98.82: 100%|██████████| 469/469 [01:03<00:00,  7.36it/s]\n",
            "Loss=0.01417743880301714 Batch_id=0 Accuracy=99.22:   0%|          | 1/469 [00:00<01:02,  7.53it/s]"
          ],
          "name": "stderr"
        },
        {
          "output_type": "stream",
          "text": [
            "\n",
            "Test set: Average loss: 0.0326, Accuracy: 9893/10000 (99%)\n",
            "\n",
            "EPOCH - 7\n"
          ],
          "name": "stdout"
        },
        {
          "output_type": "stream",
          "text": [
            "Loss=0.006660646293312311 Batch_id=468 Accuracy=98.90: 100%|██████████| 469/469 [01:03<00:00,  7.33it/s]\n",
            "Loss=0.007397185079753399 Batch_id=0 Accuracy=100.00:   0%|          | 1/469 [00:00<01:01,  7.58it/s]"
          ],
          "name": "stderr"
        },
        {
          "output_type": "stream",
          "text": [
            "\n",
            "Test set: Average loss: 0.0365, Accuracy: 9877/10000 (99%)\n",
            "\n",
            "EPOCH - 8\n"
          ],
          "name": "stdout"
        },
        {
          "output_type": "stream",
          "text": [
            "Loss=0.003984513226896524 Batch_id=468 Accuracy=98.97: 100%|██████████| 469/469 [01:03<00:00,  7.39it/s]\n",
            "Loss=0.005963130388408899 Batch_id=0 Accuracy=100.00:   0%|          | 1/469 [00:00<01:01,  7.60it/s]"
          ],
          "name": "stderr"
        },
        {
          "output_type": "stream",
          "text": [
            "\n",
            "Test set: Average loss: 0.0324, Accuracy: 9892/10000 (99%)\n",
            "\n",
            "EPOCH - 9\n"
          ],
          "name": "stdout"
        },
        {
          "output_type": "stream",
          "text": [
            "Loss=0.009622329846024513 Batch_id=468 Accuracy=99.05: 100%|██████████| 469/469 [01:03<00:00,  7.43it/s]\n",
            "Loss=0.008168710395693779 Batch_id=0 Accuracy=100.00:   0%|          | 1/469 [00:00<01:04,  7.31it/s]"
          ],
          "name": "stderr"
        },
        {
          "output_type": "stream",
          "text": [
            "\n",
            "Test set: Average loss: 0.0372, Accuracy: 9870/10000 (99%)\n",
            "\n",
            "EPOCH - 10\n"
          ],
          "name": "stdout"
        },
        {
          "output_type": "stream",
          "text": [
            "Loss=0.01401546597480774 Batch_id=468 Accuracy=99.18: 100%|██████████| 469/469 [01:02<00:00,  7.50it/s]\n",
            "Loss=0.0761067271232605 Batch_id=0 Accuracy=98.44:   0%|          | 1/469 [00:00<01:01,  7.57it/s]"
          ],
          "name": "stderr"
        },
        {
          "output_type": "stream",
          "text": [
            "\n",
            "Test set: Average loss: 0.0317, Accuracy: 9897/10000 (99%)\n",
            "\n",
            "EPOCH - 11\n"
          ],
          "name": "stdout"
        },
        {
          "output_type": "stream",
          "text": [
            "Loss=0.006085806060582399 Batch_id=468 Accuracy=99.15: 100%|██████████| 469/469 [01:03<00:00,  7.44it/s]\n",
            "Loss=0.023349160328507423 Batch_id=0 Accuracy=99.22:   0%|          | 1/469 [00:00<01:01,  7.59it/s]"
          ],
          "name": "stderr"
        },
        {
          "output_type": "stream",
          "text": [
            "\n",
            "Test set: Average loss: 0.0398, Accuracy: 9870/10000 (99%)\n",
            "\n",
            "EPOCH - 12\n"
          ],
          "name": "stdout"
        },
        {
          "output_type": "stream",
          "text": [
            "Loss=0.02801460213959217 Batch_id=468 Accuracy=99.23: 100%|██████████| 469/469 [01:02<00:00,  7.50it/s]\n",
            "Loss=0.017225665971636772 Batch_id=0 Accuracy=99.22:   0%|          | 1/469 [00:00<01:00,  7.73it/s]"
          ],
          "name": "stderr"
        },
        {
          "output_type": "stream",
          "text": [
            "\n",
            "Test set: Average loss: 0.0385, Accuracy: 9881/10000 (99%)\n",
            "\n",
            "EPOCH - 13\n"
          ],
          "name": "stdout"
        },
        {
          "output_type": "stream",
          "text": [
            "Loss=0.01608692668378353 Batch_id=468 Accuracy=99.32: 100%|██████████| 469/469 [01:03<00:00,  7.44it/s]\n",
            "Loss=0.006821321789175272 Batch_id=0 Accuracy=100.00:   0%|          | 1/469 [00:00<01:01,  7.59it/s]"
          ],
          "name": "stderr"
        },
        {
          "output_type": "stream",
          "text": [
            "\n",
            "Test set: Average loss: 0.0509, Accuracy: 9853/10000 (99%)\n",
            "\n",
            "EPOCH - 14\n"
          ],
          "name": "stdout"
        },
        {
          "output_type": "stream",
          "text": [
            "Loss=0.004216733854264021 Batch_id=468 Accuracy=99.31: 100%|██████████| 469/469 [01:02<00:00,  7.52it/s]\n",
            "Loss=0.005629427265375853 Batch_id=0 Accuracy=100.00:   0%|          | 1/469 [00:00<01:05,  7.18it/s]"
          ],
          "name": "stderr"
        },
        {
          "output_type": "stream",
          "text": [
            "\n",
            "Test set: Average loss: 0.0327, Accuracy: 9891/10000 (99%)\n",
            "\n",
            "EPOCH - 15\n"
          ],
          "name": "stdout"
        },
        {
          "output_type": "stream",
          "text": [
            "Loss=0.005759489256888628 Batch_id=468 Accuracy=99.38: 100%|██████████| 469/469 [01:02<00:00,  7.52it/s]\n"
          ],
          "name": "stderr"
        },
        {
          "output_type": "stream",
          "text": [
            "\n",
            "Test set: Average loss: 0.0329, Accuracy: 9897/10000 (99%)\n",
            "\n"
          ],
          "name": "stdout"
        }
      ]
    },
    {
      "cell_type": "code",
      "metadata": {
        "colab": {
          "base_uri": "https://localhost:8080/",
          "height": 570
        },
        "id": "QvUCjt7mRAxd",
        "outputId": "e1021e30-ba6f-42ea-c3a9-bcffcda16f9d"
      },
      "source": [
        "fig, axs = plt.subplots(2,2,figsize=(15,10))\r\n",
        "axs[0, 0].plot(train_losses)\r\n",
        "axs[0, 0].set_title(\"Training Loss\")\r\n",
        "axs[1, 0].plot(train_acc)\r\n",
        "axs[1, 0].set_title(\"Training Accuracy\")\r\n",
        "axs[0, 1].plot(test_losses)\r\n",
        "axs[0, 1].set_title(\"Test Loss\")\r\n",
        "axs[1, 1].plot(test_acc)\r\n",
        "axs[1, 1].set_title(\"Test Accuracy\")"
      ],
      "execution_count": null,
      "outputs": [
        {
          "output_type": "execute_result",
          "data": {
            "text/plain": [
              "Text(0.5, 1.0, 'Test Accuracy')"
            ]
          },
          "metadata": {
            "tags": []
          },
          "execution_count": 13
        },
        {
          "output_type": "display_data",
          "data": {
            "image/png": "[encoded data removed]",
            "text/plain": [
              "<Figure size 1080x720 with 4 Axes>"
            ]
          },
          "metadata": {
            "tags": []
          }
        }
      ]
    },
    {
      "cell_type": "code",
      "metadata": {
        "id": "8HGK8Z_0ytdD"
      },
      "source": [
        ""
      ],
      "execution_count": null,
      "outputs": []
    }
  ]
}